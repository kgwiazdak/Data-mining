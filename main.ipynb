{
 "cells": [
  {
   "cell_type": "code",
   "execution_count": 11,
   "id": "4c79a30c",
   "metadata": {},
   "outputs": [],
   "source": [
    "from pathlib import Path\n",
    "import pandas as pd\n",
    "from sklearn.model_selection import GroupKFold, GridSearchCV\n",
    "from sklearn.feature_extraction.text import TfidfVectorizer\n",
    "from sklearn.decomposition import TruncatedSVD\n",
    "from sklearn.preprocessing import StandardScaler\n",
    "from sklearn.ensemble import RandomForestClassifier\n",
    "from sklearn.pipeline import Pipeline\n",
    "from sklearn.svm import LinearSVC\n",
    "from sklearn.metrics import classification_report, confusion_matrix, accuracy_score"
   ]
  },
  {
   "cell_type": "code",
   "execution_count": 12,
   "id": "0ac64bba",
   "metadata": {},
   "outputs": [],
   "source": [
    "DATA_DIR = Path(\"op_spam_v1.4\")\n",
    "neg_dir = DATA_DIR / \"negative_polarity\"\n",
    "\n",
    "sources = {\n",
    "    \"deceptive_from_MTurk\": 1, \n",
    "    \"truthful_from_Web\": 0\n",
    "}"
   ]
  },
  {
   "cell_type": "code",
   "execution_count": 13,
   "id": "ecbc8c11",
   "metadata": {},
   "outputs": [],
   "source": [
    "rows = []\n",
    "for src, y in sources.items():\n",
    "    for fold_name in sorted((neg_dir / src).rglob(\"fold*\")):\n",
    "        fold_id = int(fold_name.name[-1])\n",
    "        for fp in fold_name.rglob(\"*.txt\"):\n",
    "            txt = Path(fp).read_text(encoding=\"utf-8\", errors=\"ignore\")\n",
    "            rows.append({\"text\": txt, \"label\": y, \"fold\": fold_id, \"path\": str(fp)})\n",
    "\n",
    "df = pd.DataFrame(rows).sample(frac=1.0, random_state=42).reset_index(drop=True)\n",
    "\n",
    "train_mask = df[\"fold\"].isin([1,2,3,4])\n",
    "test_mask  = df[\"fold\"] == 5\n",
    "X_train, y_train, g_train = df.loc[train_mask, \"text\"], df.loc[train_mask, \"label\"], df.loc[train_mask, \"fold\"]\n",
    "X_test,  y_test           = df.loc[test_mask,  \"text\"], df.loc[test_mask,  \"label\"]\n"
   ]
  },
  {
   "cell_type": "markdown",
   "id": "ee01b761",
   "metadata": {},
   "source": [
    "### Random Forest"
   ]
  },
  {
   "cell_type": "code",
   "execution_count": null,
   "id": "af456921",
   "metadata": {},
   "outputs": [],
   "source": [
    "rf_pipe = Pipeline([\n",
    "    (\"tfidf\", TfidfVectorizer(ngram_range=(1,2), min_df=2, max_df=0.9)),\n",
    "    (\"svd\", TruncatedSVD(n_components=300, random_state=42)),\n",
    "    (\"clf\",  RandomForestClassifier(random_state=42, n_jobs=-1))\n",
    "])\n",
    "\n",
    "rf_grid = {\n",
    "    \"clf__n_estimators\": [200, 500],\n",
    "    \"clf__max_depth\": [None, 20, 40],\n",
    "    \"clf__max_features\": [\"sqrt\", 0.3],\n",
    "    \"clf__min_samples_leaf\": [1, 2]\n",
    "}\n",
    "\n",
    "cv = GroupKFold(n_splits=4)\n",
    "rf_search = GridSearchCV(\n",
    "    rf_pipe, \n",
    "    rf_grid, \n",
    "    scoring=\"accuracy\",\n",
    "    cv=cv.split(X_train, y_train, groups=g_train),\n",
    "    n_jobs=-1, \n",
    "    refit=True\n",
    ")\n"
   ]
  },
  {
   "cell_type": "code",
   "execution_count": 15,
   "id": "19198c33",
   "metadata": {},
   "outputs": [
    {
     "name": "stdout",
     "output_type": "stream",
     "text": [
      "\n",
      "=== RANDOM FOREST ===\n",
      "Najlepsze parametry: {'clf__max_depth': None, 'clf__max_features': 'sqrt', 'clf__min_samples_leaf': 1, 'clf__n_estimators': 200}\n",
      "CV accuracy: 0.7391\n",
      "\n",
      "[TEST] Accuracy: 0.78125\n",
      "Confusion matrix:\n",
      " [[67 13]\n",
      " [22 58]]\n",
      "              precision    recall  f1-score   support\n",
      "\n",
      " truthful(0)       0.75      0.84      0.79        80\n",
      "deceptive(1)       0.82      0.72      0.77        80\n",
      "\n",
      "    accuracy                           0.78       160\n",
      "   macro avg       0.78      0.78      0.78       160\n",
      "weighted avg       0.78      0.78      0.78       160\n",
      "\n"
     ]
    }
   ],
   "source": [
    "rf_search.fit(X_train, y_train)\n",
    "\n",
    "print(\"\\n=== RANDOM FOREST ===\")\n",
    "print(f\"Najlepsze parametry: {rf_search.best_params_}\")\n",
    "print(f\"CV accuracy: {rf_search.best_score_:.4f}\")\n",
    "\n",
    "rf_best = rf_search.best_estimator_\n",
    "rf_pred = rf_best.predict(X_test)\n",
    "print(\"\\n[TEST] Accuracy:\", accuracy_score(y_test, rf_pred))\n",
    "print(\"Confusion matrix:\\n\", confusion_matrix(y_test, rf_pred))\n",
    "print(classification_report(y_test, rf_pred, target_names=[\"truthful(0)\",\"deceptive(1)\"]))"
   ]
  },
  {
   "cell_type": "markdown",
   "id": "15f636c3",
   "metadata": {},
   "source": [
    "### XGBoost"
   ]
  },
  {
   "cell_type": "code",
   "execution_count": null,
   "id": "531de56d",
   "metadata": {},
   "outputs": [],
   "source": [
    "from sklearn.ensemble import HistGradientBoostingClassifier\n",
    "\n",
    "hgb_pipe = Pipeline([\n",
    "    (\"tfidf\", TfidfVectorizer(ngram_range=(1,2), min_df=2, max_df=0.9)),\n",
    "    (\"svd\", TruncatedSVD(n_components=300, random_state=42)),\n",
    "    (\"clf\",  HistGradientBoostingClassifier(random_state=42))\n",
    "])\n",
    "\n",
    "hgb_grid = {\n",
    "    \"clf__learning_rate\": [0.05, 0.1],\n",
    "    \"clf__max_depth\": [None, 6, 10],\n",
    "    \"clf__max_leaf_nodes\": [31, 63],\n",
    "    \"clf__l2_regularization\": [0.0, 1.0],\n",
    "    \"clf__max_bins\": [255],           \n",
    "    \"clf__early_stopping\": [True],    \n",
    "    \"clf__validation_fraction\": [0.1] \n",
    "}\n",
    "\n",
    "hgb_search = GridSearchCV(\n",
    "    hgb_pipe, \n",
    "    hgb_grid, \n",
    "    scoring=\"accuracy\",\n",
    "    cv=cv.split(X_train, y_train, groups=g_train),\n",
    "    n_jobs=-1, \n",
    "    refit=True\n",
    ")"
   ]
  },
  {
   "cell_type": "code",
   "execution_count": 17,
   "id": "0efc9147",
   "metadata": {},
   "outputs": [
    {
     "name": "stdout",
     "output_type": "stream",
     "text": [
      "\n",
      "=== HIST GRADIENT BOOSTING ===\n",
      "Najlepsze parametry: {'clf__early_stopping': True, 'clf__l2_regularization': 0.0, 'clf__learning_rate': 0.1, 'clf__max_bins': 255, 'clf__max_depth': 6, 'clf__max_leaf_nodes': 31, 'clf__validation_fraction': 0.1}\n",
      "CV accuracy: 0.7422\n",
      "\n",
      "[TEST] Accuracy: 0.775\n",
      "Confusion matrix:\n",
      " [[71  9]\n",
      " [27 53]]\n",
      "              precision    recall  f1-score   support\n",
      "\n",
      " truthful(0)       0.72      0.89      0.80        80\n",
      "deceptive(1)       0.85      0.66      0.75        80\n",
      "\n",
      "    accuracy                           0.78       160\n",
      "   macro avg       0.79      0.77      0.77       160\n",
      "weighted avg       0.79      0.78      0.77       160\n",
      "\n"
     ]
    }
   ],
   "source": [
    "hgb_search.fit(X_train, y_train)\n",
    "\n",
    "print(\"\\n=== HIST GRADIENT BOOSTING ===\")\n",
    "print(f\"Najlepsze parametry: {hgb_search.best_params_}\")\n",
    "print(f\"CV accuracy: {hgb_search.best_score_:.4f}\")\n",
    "\n",
    "hgb_best = hgb_search.best_estimator_\n",
    "hgb_pred = hgb_best.predict(X_test)\n",
    "print(\"\\n[TEST] Accuracy:\", accuracy_score(y_test, hgb_pred))\n",
    "print(\"Confusion matrix:\\n\", confusion_matrix(y_test, hgb_pred))\n",
    "print(classification_report(y_test, hgb_pred, target_names=[\"truthful(0)\",\"deceptive(1)\"]))"
   ]
  }
 ],
 "metadata": {
  "kernelspec": {
   "display_name": ".venv (3.11.9)",
   "language": "python",
   "name": "python3"
  },
  "language_info": {
   "codemirror_mode": {
    "name": "ipython",
    "version": 3
   },
   "file_extension": ".py",
   "mimetype": "text/x-python",
   "name": "python",
   "nbconvert_exporter": "python",
   "pygments_lexer": "ipython3",
   "version": "3.11.9"
  }
 },
 "nbformat": 4,
 "nbformat_minor": 5
}
